{
 "cells": [
  {
   "cell_type": "markdown",
   "id": "052b15c7",
   "metadata": {},
   "source": [
    "# Scraping Pilpres 2024 Data"
   ]
  },
  {
   "cell_type": "markdown",
   "id": "34c73f6c",
   "metadata": {},
   "source": [
    "## Import Libraries & Setup"
   ]
  },
  {
   "cell_type": "code",
   "execution_count": 55,
   "id": "80662cab",
   "metadata": {},
   "outputs": [],
   "source": [
    "from selenium import webdriver\n",
    "from selenium.webdriver.common.by import By\n",
    "from selenium.webdriver.support.ui import WebDriverWait\n",
    "from selenium.webdriver.support import expected_conditions as EC\n",
    "import pandas as pd\n",
    "from datetime import datetime"
   ]
  },
  {
   "cell_type": "code",
   "execution_count": 56,
   "id": "6bb8b321",
   "metadata": {},
   "outputs": [],
   "source": [
    "# setup chrome options\n",
    "chrome_options = webdriver.ChromeOptions()\n",
    "chrome_options.add_argument(\"--headless\")  # ensure GUI is off\n",
    "chrome_options.add_argument(\"--no-sandbox\")\n",
    "chrome_options.add_argument(\"--disable-dev-shm-usage\")\n",
    "chrome_options.page_load_strategy = 'normal'"
   ]
  },
  {
   "cell_type": "markdown",
   "id": "c61e430c",
   "metadata": {},
   "source": [
    "## Functions"
   ]
  },
  {
   "cell_type": "code",
   "execution_count": 57,
   "id": "f6e857cb",
   "metadata": {},
   "outputs": [],
   "source": [
    "def get_data(url):\n",
    "    # set up the webdriver\n",
    "    driver = webdriver.Chrome(options=chrome_options)\n",
    "    driver.get(url)\n",
    "\n",
    "    wait = WebDriverWait(driver, 100)  # Timeout after 100 seconds\n",
    "    table_xpath = \"/html/body/div/div[1]/div/div[2]/div/div[2]/div[3]/div/div/table\"\n",
    "    table_element = WebDriverWait(driver, 30).until(\n",
    "        EC.presence_of_element_located((By.XPATH, table_xpath))\n",
    "    )\n",
    "\n",
    "    # Now that the table is loaded, extract the data\n",
    "    # This example assumes the table rows are direct children of the table_element located by the XPath\n",
    "    rows = table_element.find_elements(By.XPATH, \".//tr\")\n",
    "    data = []\n",
    "    for row in rows:\n",
    "        # Extract text from each cell in the row\n",
    "        cells = row.find_elements(By.XPATH, \".//td\")\n",
    "        if not cells:  # If the first row consists of headers <th>\n",
    "            cells = row.find_elements(By.XPATH, \".//th\")\n",
    "        data.append([cell.text for cell in cells])\n",
    "\n",
    "    # Assuming the first row contains headers\n",
    "    headers = data[0] if data else []\n",
    "    data_rows = data[1:] if len(data) > 1 else []\n",
    "\n",
    "    # Convert to DataFrame\n",
    "    df = pd.DataFrame(data_rows, columns=headers)\n",
    "    \n",
    "    return df"
   ]
  },
  {
   "cell_type": "code",
   "execution_count": 58,
   "id": "a54b17ca",
   "metadata": {},
   "outputs": [],
   "source": [
    "def process_data(df):\n",
    "    # Rename columns\n",
    "    new_column_names = ['province','candidate_1_votes','candidate_2_votes','candidate_3_votes']\n",
    "    df.columns = new_column_names\n",
    "    \n",
    "    # Add refreshed time\n",
    "    current_time = datetime.now()\n",
    "    df['refreshed_time'] = current_time\n",
    "    \n",
    "    # Correct the datatype\n",
    "    columns_to_convert = ['candidate_1_votes', 'candidate_2_votes', 'candidate_3_votes']\n",
    "    for col in columns_to_convert:\n",
    "        df[col] = df[col].apply(lambda x: int(x.replace('.', '')))\n",
    "\n",
    "    # Add total votes column\n",
    "    df['total_votes'] = df['candidate_1_votes'] + df['candidate_2_votes'] + df['candidate_3_votes']\n",
    "    \n",
    "    # Clean province name\n",
    "    df['province'] = df['province'].str.split('\\n').str[0]\n",
    "    \n",
    "    return df"
   ]
  },
  {
   "cell_type": "markdown",
   "id": "242a9850",
   "metadata": {},
   "source": [
    "## Main"
   ]
  },
  {
   "cell_type": "code",
   "execution_count": 59,
   "id": "d4b7d961",
   "metadata": {},
   "outputs": [],
   "source": [
    "# set the target URL\n",
    "#url = \"https://pemilu2024.kpu.go.id/pilpres/hitung-suara/35\"\n",
    "url = \"https://pemilu2024.kpu.go.id/\"\n",
    "\n",
    "df = get_data(url)\n",
    "df = process_data(df)"
   ]
  },
  {
   "cell_type": "code",
   "execution_count": 60,
   "id": "c0c01ff2",
   "metadata": {},
   "outputs": [
    {
     "name": "stdout",
     "output_type": "stream",
     "text": [
      "<class 'pandas.core.frame.DataFrame'>\n",
      "RangeIndex: 40 entries, 0 to 39\n",
      "Data columns (total 6 columns):\n",
      " #   Column             Non-Null Count  Dtype         \n",
      "---  ------             --------------  -----         \n",
      " 0   province           40 non-null     object        \n",
      " 1   candidate_1_votes  40 non-null     int64         \n",
      " 2   candidate_2_votes  40 non-null     int64         \n",
      " 3   candidate_3_votes  40 non-null     int64         \n",
      " 4   refreshed_time     40 non-null     datetime64[ns]\n",
      " 5   total_votes        40 non-null     int64         \n",
      "dtypes: datetime64[ns](1), int64(4), object(1)\n",
      "memory usage: 2.0+ KB\n"
     ]
    }
   ],
   "source": [
    "df.info()"
   ]
  },
  {
   "cell_type": "code",
   "execution_count": 61,
   "id": "5763721c",
   "metadata": {},
   "outputs": [
    {
     "data": {
      "text/html": [
       "<div>\n",
       "<style scoped>\n",
       "    .dataframe tbody tr th:only-of-type {\n",
       "        vertical-align: middle;\n",
       "    }\n",
       "\n",
       "    .dataframe tbody tr th {\n",
       "        vertical-align: top;\n",
       "    }\n",
       "\n",
       "    .dataframe thead th {\n",
       "        text-align: right;\n",
       "    }\n",
       "</style>\n",
       "<table border=\"1\" class=\"dataframe\">\n",
       "  <thead>\n",
       "    <tr style=\"text-align: right;\">\n",
       "      <th></th>\n",
       "      <th>province</th>\n",
       "      <th>candidate_1_votes</th>\n",
       "      <th>candidate_2_votes</th>\n",
       "      <th>candidate_3_votes</th>\n",
       "      <th>refreshed_time</th>\n",
       "      <th>total_votes</th>\n",
       "    </tr>\n",
       "  </thead>\n",
       "  <tbody>\n",
       "    <tr>\n",
       "      <th>0</th>\n",
       "      <td>Total</td>\n",
       "      <td>23623901</td>\n",
       "      <td>57085817</td>\n",
       "      <td>16667381</td>\n",
       "      <td>2024-02-20 11:00:12.525155</td>\n",
       "      <td>97377099</td>\n",
       "    </tr>\n",
       "    <tr>\n",
       "      <th>1</th>\n",
       "      <td>ACEH</td>\n",
       "      <td>1431911</td>\n",
       "      <td>400311</td>\n",
       "      <td>42865</td>\n",
       "      <td>2024-02-20 11:00:12.525155</td>\n",
       "      <td>1875087</td>\n",
       "    </tr>\n",
       "    <tr>\n",
       "      <th>2</th>\n",
       "      <td>BALI</td>\n",
       "      <td>31648</td>\n",
       "      <td>520553</td>\n",
       "      <td>449590</td>\n",
       "      <td>2024-02-20 11:00:12.525155</td>\n",
       "      <td>1001791</td>\n",
       "    </tr>\n",
       "    <tr>\n",
       "      <th>3</th>\n",
       "      <td>BANTEN</td>\n",
       "      <td>1265143</td>\n",
       "      <td>2123523</td>\n",
       "      <td>357708</td>\n",
       "      <td>2024-02-20 11:00:12.525155</td>\n",
       "      <td>3746374</td>\n",
       "    </tr>\n",
       "    <tr>\n",
       "      <th>4</th>\n",
       "      <td>BENGKULU</td>\n",
       "      <td>198441</td>\n",
       "      <td>769378</td>\n",
       "      <td>128666</td>\n",
       "      <td>2024-02-20 11:00:12.525155</td>\n",
       "      <td>1096485</td>\n",
       "    </tr>\n",
       "  </tbody>\n",
       "</table>\n",
       "</div>"
      ],
      "text/plain": [
       "   province  candidate_1_votes  candidate_2_votes  candidate_3_votes  \\\n",
       "0     Total           23623901           57085817           16667381   \n",
       "1      ACEH            1431911             400311              42865   \n",
       "2      BALI              31648             520553             449590   \n",
       "3    BANTEN            1265143            2123523             357708   \n",
       "4  BENGKULU             198441             769378             128666   \n",
       "\n",
       "              refreshed_time  total_votes  \n",
       "0 2024-02-20 11:00:12.525155     97377099  \n",
       "1 2024-02-20 11:00:12.525155      1875087  \n",
       "2 2024-02-20 11:00:12.525155      1001791  \n",
       "3 2024-02-20 11:00:12.525155      3746374  \n",
       "4 2024-02-20 11:00:12.525155      1096485  "
      ]
     },
     "execution_count": 61,
     "metadata": {},
     "output_type": "execute_result"
    }
   ],
   "source": [
    "df.head()"
   ]
  },
  {
   "cell_type": "code",
   "execution_count": 62,
   "id": "9923f0de",
   "metadata": {},
   "outputs": [],
   "source": [
    "# Don't forget to close the browser\n",
    "driver.quit()"
   ]
  },
  {
   "cell_type": "code",
   "execution_count": null,
   "id": "8a08a8f9",
   "metadata": {},
   "outputs": [],
   "source": []
  }
 ],
 "metadata": {
  "kernelspec": {
   "display_name": "Python 3 (ipykernel)",
   "language": "python",
   "name": "python3"
  },
  "language_info": {
   "codemirror_mode": {
    "name": "ipython",
    "version": 3
   },
   "file_extension": ".py",
   "mimetype": "text/x-python",
   "name": "python",
   "nbconvert_exporter": "python",
   "pygments_lexer": "ipython3",
   "version": "3.10.1"
  }
 },
 "nbformat": 4,
 "nbformat_minor": 5
}
