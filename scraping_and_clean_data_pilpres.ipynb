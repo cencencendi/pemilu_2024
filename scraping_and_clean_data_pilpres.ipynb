{
 "cells": [
  {
   "cell_type": "markdown",
   "id": "052b15c7",
   "metadata": {},
   "source": [
    "# Scraping Pilpres 2024 Data"
   ]
  },
  {
   "cell_type": "markdown",
   "id": "34c73f6c",
   "metadata": {},
   "source": [
    "## Import Libraries & Setup"
   ]
  },
  {
   "cell_type": "code",
   "execution_count": 1,
   "id": "80662cab",
   "metadata": {},
   "outputs": [],
   "source": [
    "from selenium import webdriver\n",
    "from selenium.webdriver.common.by import By\n",
    "from selenium.webdriver.support.ui import WebDriverWait\n",
    "from selenium.webdriver.support import expected_conditions as EC\n",
    "import pandas as pd\n",
    "from datetime import datetime"
   ]
  },
  {
   "cell_type": "code",
   "execution_count": 2,
   "id": "6bb8b321",
   "metadata": {},
   "outputs": [],
   "source": [
    "# setup chrome options\n",
    "chrome_options = webdriver.ChromeOptions()\n",
    "chrome_options.add_argument(\"--headless\")  # ensure GUI is off\n",
    "chrome_options.add_argument(\"--no-sandbox\")\n",
    "chrome_options.add_argument(\"--disable-dev-shm-usage\")\n",
    "chrome_options.page_load_strategy = 'normal'"
   ]
  },
  {
   "cell_type": "markdown",
   "id": "c61e430c",
   "metadata": {},
   "source": [
    "## Functions"
   ]
  },
  {
   "cell_type": "code",
   "execution_count": 3,
   "id": "f6e857cb",
   "metadata": {},
   "outputs": [],
   "source": [
    "def get_data(province, url):\n",
    "    # set up the webdriver\n",
    "    driver = webdriver.Chrome(options=chrome_options)\n",
    "    driver.get(url)\n",
    "    \n",
    "    table_xpath = \"/html/body/div/div[1]/div/div[3]/div[2]/div[2]/div[2]/div/div/table\"\n",
    "    table_element = WebDriverWait(driver, 100).until(\n",
    "        EC.presence_of_element_located((By.XPATH, table_xpath))\n",
    "    )\n",
    "\n",
    "    # Now that the table is loaded, extract the data\n",
    "    # This example assumes the table rows are direct children of the table_element located by the XPath\n",
    "    rows = table_element.find_elements(By.XPATH, \".//tr\")\n",
    "    data = []\n",
    "    for row in rows:\n",
    "        # Extract text from each cell in the row\n",
    "        cells = row.find_elements(By.XPATH, \".//td\")\n",
    "        if not cells:  # If the first row consists of headers <th>\n",
    "            cells = row.find_elements(By.XPATH, \".//th\")\n",
    "        data.append([cell.text for cell in cells])\n",
    "\n",
    "    # Assuming the first row contains headers\n",
    "    headers = data[0] if data else []\n",
    "    data_rows = data[1:] if len(data) > 1 else []\n",
    "\n",
    "    # Convert to DataFrame\n",
    "    df = pd.DataFrame(data_rows, columns=headers)\n",
    "    df['province'] = province\n",
    "    df = df[df['Wilayah'] != 'Total\\nProgress']\n",
    "    # Clean Wilayah name\n",
    "    df['Wilayah'] = df['Wilayah'].str.split('\\n').str[0]\n",
    "    \n",
    "    return df"
   ]
  },
  {
   "cell_type": "code",
   "execution_count": 4,
   "id": "a54b17ca",
   "metadata": {},
   "outputs": [],
   "source": [
    "def process_data(df):\n",
    "    # Rename columns\n",
    "    new_column_names = ['province','kabupaten_kota','candidate_1_votes','candidate_2_votes','candidate_3_votes']\n",
    "    df.columns = new_column_names\n",
    "    \n",
    "    # Add refreshed time\n",
    "    current_time = datetime.now()\n",
    "    df['refreshed_time'] = current_time\n",
    "    \n",
    "    # Correct the datatype\n",
    "    columns_to_convert = ['candidate_1_votes', 'candidate_2_votes', 'candidate_3_votes']\n",
    "    for col in columns_to_convert:\n",
    "        df[col] = df[col].apply(lambda x: int(x.replace('.', '')) if x else None)\n",
    "\n",
    "    # Add total votes column\n",
    "    df['total_votes'] = df['candidate_1_votes'] + df['candidate_2_votes'] + df['candidate_3_votes']\n",
    "    \n",
    "    # Move refreshed_time to the left\n",
    "    refreshed_column = df.pop('refreshed_time')\n",
    "    df.insert(0, 'refreshed_time', province_column)\n",
    "    \n",
    "    return df"
   ]
  },
  {
   "cell_type": "markdown",
   "id": "d9c7379e",
   "metadata": {},
   "source": [
    "## Dataset"
   ]
  },
  {
   "cell_type": "code",
   "execution_count": 5,
   "id": "9c55cc3a",
   "metadata": {},
   "outputs": [
    {
     "data": {
      "text/html": [
       "<div>\n",
       "<style scoped>\n",
       "    .dataframe tbody tr th:only-of-type {\n",
       "        vertical-align: middle;\n",
       "    }\n",
       "\n",
       "    .dataframe tbody tr th {\n",
       "        vertical-align: top;\n",
       "    }\n",
       "\n",
       "    .dataframe thead th {\n",
       "        text-align: right;\n",
       "    }\n",
       "</style>\n",
       "<table border=\"1\" class=\"dataframe\">\n",
       "  <thead>\n",
       "    <tr style=\"text-align: right;\">\n",
       "      <th></th>\n",
       "      <th>province</th>\n",
       "      <th>link</th>\n",
       "    </tr>\n",
       "  </thead>\n",
       "  <tbody>\n",
       "    <tr>\n",
       "      <th>0</th>\n",
       "      <td>ACEH</td>\n",
       "      <td>https://pemilu2024.kpu.go.id/pilpres/hitung-su...</td>\n",
       "    </tr>\n",
       "    <tr>\n",
       "      <th>1</th>\n",
       "      <td>BALI</td>\n",
       "      <td>https://pemilu2024.kpu.go.id/pilpres/hitung-su...</td>\n",
       "    </tr>\n",
       "    <tr>\n",
       "      <th>2</th>\n",
       "      <td>BANTEN</td>\n",
       "      <td>https://pemilu2024.kpu.go.id/pilpres/hitung-su...</td>\n",
       "    </tr>\n",
       "    <tr>\n",
       "      <th>3</th>\n",
       "      <td>BENGKULU</td>\n",
       "      <td>https://pemilu2024.kpu.go.id/pilpres/hitung-su...</td>\n",
       "    </tr>\n",
       "    <tr>\n",
       "      <th>4</th>\n",
       "      <td>DAERAH ISTIMEWA YOGYAKARTA</td>\n",
       "      <td>https://pemilu2024.kpu.go.id/pilpres/hitung-su...</td>\n",
       "    </tr>\n",
       "  </tbody>\n",
       "</table>\n",
       "</div>"
      ],
      "text/plain": [
       "                     province  \\\n",
       "0                        ACEH   \n",
       "1                        BALI   \n",
       "2                      BANTEN   \n",
       "3                    BENGKULU   \n",
       "4  DAERAH ISTIMEWA YOGYAKARTA   \n",
       "\n",
       "                                                link  \n",
       "0  https://pemilu2024.kpu.go.id/pilpres/hitung-su...  \n",
       "1  https://pemilu2024.kpu.go.id/pilpres/hitung-su...  \n",
       "2  https://pemilu2024.kpu.go.id/pilpres/hitung-su...  \n",
       "3  https://pemilu2024.kpu.go.id/pilpres/hitung-su...  \n",
       "4  https://pemilu2024.kpu.go.id/pilpres/hitung-su...  "
      ]
     },
     "execution_count": 5,
     "metadata": {},
     "output_type": "execute_result"
    }
   ],
   "source": [
    "# Link dataset for scraping kabupaten kota data\n",
    "link_scraping = pd.read_csv('link_scraping.csv')\n",
    "link_scraping['province'] = link_scraping['province'].str.split('\\r').str[0]\n",
    "# Replace spaces with empty string only for 'P A P U A'\n",
    "link_scraping['province'] = link_scraping['province'].apply(lambda x: x.replace(' ', '') if x == 'P A P U A' else x)\n",
    "link_scraping.head()"
   ]
  },
  {
   "cell_type": "markdown",
   "id": "242a9850",
   "metadata": {},
   "source": [
    "## Main"
   ]
  },
  {
   "cell_type": "code",
   "execution_count": 6,
   "id": "db8a4eae",
   "metadata": {},
   "outputs": [],
   "source": [
    "# Table xpath national and per province are different\n",
    "#national_table_xpath = \"/html/body/div/div[1]/div/div[2]/div/div[2]/div[3]/div/div/table\"\n",
    "#province_table_xpath = \"/html/body/div/div[1]/div/div[3]/div[2]/div[2]/div[2]/div/div/table\""
   ]
  },
  {
   "cell_type": "markdown",
   "id": "63dbda63",
   "metadata": {},
   "source": [
    "To get the province data, sometimes we encounter some errors, so we wrote this code below"
   ]
  },
  {
   "cell_type": "code",
   "execution_count": 7,
   "id": "e241053f",
   "metadata": {},
   "outputs": [
    {
     "name": "stdout",
     "output_type": "stream",
     "text": [
      "ACEH success\n",
      "BALI success\n",
      "BANTEN success\n",
      "BENGKULU success\n",
      "DAERAH ISTIMEWA YOGYAKARTA success\n",
      "DKI JAKARTA success\n",
      "GORONTALO success\n",
      "JAMBI success\n",
      "JAWA BARAT success\n",
      "JAWA TENGAH success\n",
      "JAWA TIMUR has no data\n",
      "KALIMANTAN BARAT success\n",
      "KALIMANTAN SELATAN success\n",
      "KALIMANTAN TENGAH success\n",
      "KALIMANTAN TIMUR success\n",
      "KALIMANTAN UTARA success\n",
      "KEPULAUAN BANGKA BELITUNG success\n",
      "KEPULAUAN RIAU success\n",
      "LAMPUNG success\n",
      "MALUKU success\n",
      "MALUKU UTARA success\n",
      "NUSA TENGGARA BARAT success\n",
      "NUSA TENGGARA TIMUR success\n",
      "PAPUA success\n",
      "PAPUA BARAT success\n",
      "PAPUA BARAT DAYA success\n",
      "PAPUA PEGUNUNGAN success\n",
      "PAPUA SELATAN success\n",
      "PAPUA TENGAH success\n",
      "RIAU success\n",
      "SULAWESI BARAT success\n",
      "SULAWESI SELATAN success\n",
      "SULAWESI TENGAH success\n",
      "SULAWESI TENGGARA has no data\n",
      "SULAWESI UTARA success\n",
      "SUMATERA BARAT success\n",
      "SUMATERA SELATAN success\n",
      "SUMATERA UTARA success\n",
      "Luar Negeri success\n"
     ]
    }
   ],
   "source": [
    "# Initialize an empty DataFrame\n",
    "df = pd.DataFrame()\n",
    "\n",
    "# to save if there is error rows\n",
    "error_rows = []\n",
    "\n",
    "for index, row in link_scraping.iterrows():\n",
    "    try:\n",
    "        temp_df = get_data(row['province'], row['link'])\n",
    "        # Check if temp_df is not empty before concatenating\n",
    "        if not temp_df.empty:\n",
    "            df = pd.concat([df, temp_df], ignore_index=True)\n",
    "            print(row['province'], \"success\")\n",
    "        else:\n",
    "            print(row['province'], \"has no data\")\n",
    "    except Exception as e:\n",
    "        print(f\"Error processing {row['province']}: {str(e)}\")\n",
    "        error_rows.append(row)\n",
    "\n",
    "# Retry processing the rows that encountered errors\n",
    "for row in error_rows:\n",
    "    try:\n",
    "        temp_df = get_data(row['province'], row['link'])\n",
    "        if not temp_df.empty:\n",
    "            df = pd.concat([df, temp_df], ignore_index=True)\n",
    "            print(row['province'], \"success on retry\")\n",
    "        else:\n",
    "            print(row['province'], \"has no data on retry\")\n",
    "    except Exception as e:\n",
    "        print(f\"Error processing {row['province']} on retry: {str(e)}\")"
   ]
  },
  {
   "cell_type": "code",
   "execution_count": 8,
   "id": "922a91f4",
   "metadata": {},
   "outputs": [],
   "source": [
    "df = df[df['province'].isin(link_scraping['province'])]"
   ]
  },
  {
   "cell_type": "code",
   "execution_count": 9,
   "id": "77df9468",
   "metadata": {},
   "outputs": [
    {
     "data": {
      "text/html": [
       "<div>\n",
       "<style scoped>\n",
       "    .dataframe tbody tr th:only-of-type {\n",
       "        vertical-align: middle;\n",
       "    }\n",
       "\n",
       "    .dataframe tbody tr th {\n",
       "        vertical-align: top;\n",
       "    }\n",
       "\n",
       "    .dataframe thead th {\n",
       "        text-align: right;\n",
       "    }\n",
       "</style>\n",
       "<table border=\"1\" class=\"dataframe\">\n",
       "  <thead>\n",
       "    <tr style=\"text-align: right;\">\n",
       "      <th></th>\n",
       "      <th>province</th>\n",
       "      <th>link</th>\n",
       "    </tr>\n",
       "  </thead>\n",
       "  <tbody>\n",
       "    <tr>\n",
       "      <th>0</th>\n",
       "      <td>ACEH</td>\n",
       "      <td>https://pemilu2024.kpu.go.id/pilpres/hitung-su...</td>\n",
       "    </tr>\n",
       "    <tr>\n",
       "      <th>1</th>\n",
       "      <td>BALI</td>\n",
       "      <td>https://pemilu2024.kpu.go.id/pilpres/hitung-su...</td>\n",
       "    </tr>\n",
       "    <tr>\n",
       "      <th>2</th>\n",
       "      <td>BANTEN</td>\n",
       "      <td>https://pemilu2024.kpu.go.id/pilpres/hitung-su...</td>\n",
       "    </tr>\n",
       "    <tr>\n",
       "      <th>3</th>\n",
       "      <td>BENGKULU</td>\n",
       "      <td>https://pemilu2024.kpu.go.id/pilpres/hitung-su...</td>\n",
       "    </tr>\n",
       "    <tr>\n",
       "      <th>4</th>\n",
       "      <td>DAERAH ISTIMEWA YOGYAKARTA</td>\n",
       "      <td>https://pemilu2024.kpu.go.id/pilpres/hitung-su...</td>\n",
       "    </tr>\n",
       "  </tbody>\n",
       "</table>\n",
       "</div>"
      ],
      "text/plain": [
       "                     province  \\\n",
       "0                        ACEH   \n",
       "1                        BALI   \n",
       "2                      BANTEN   \n",
       "3                    BENGKULU   \n",
       "4  DAERAH ISTIMEWA YOGYAKARTA   \n",
       "\n",
       "                                                link  \n",
       "0  https://pemilu2024.kpu.go.id/pilpres/hitung-su...  \n",
       "1  https://pemilu2024.kpu.go.id/pilpres/hitung-su...  \n",
       "2  https://pemilu2024.kpu.go.id/pilpres/hitung-su...  \n",
       "3  https://pemilu2024.kpu.go.id/pilpres/hitung-su...  \n",
       "4  https://pemilu2024.kpu.go.id/pilpres/hitung-su...  "
      ]
     },
     "execution_count": 9,
     "metadata": {},
     "output_type": "execute_result"
    }
   ],
   "source": [
    "link_scraping.head()"
   ]
  },
  {
   "cell_type": "code",
   "execution_count": 10,
   "id": "f61ebcd2",
   "metadata": {},
   "outputs": [
    {
     "data": {
      "text/html": [
       "<div>\n",
       "<style scoped>\n",
       "    .dataframe tbody tr th:only-of-type {\n",
       "        vertical-align: middle;\n",
       "    }\n",
       "\n",
       "    .dataframe tbody tr th {\n",
       "        vertical-align: top;\n",
       "    }\n",
       "\n",
       "    .dataframe thead th {\n",
       "        text-align: right;\n",
       "    }\n",
       "</style>\n",
       "<table border=\"1\" class=\"dataframe\">\n",
       "  <thead>\n",
       "    <tr style=\"text-align: right;\">\n",
       "      <th></th>\n",
       "      <th>Wilayah</th>\n",
       "      <th>H. ANIES RASYID BASWEDAN, Ph.D. - Dr. (H.C.) H. A. MUHAIMIN ISKANDAR</th>\n",
       "      <th>H. PRABOWO SUBIANTO - GIBRAN RAKABUMING RAKA</th>\n",
       "      <th>H. GANJAR PRANOWO, S.H., M.I.P. - Prof. Dr. H. M. MAHFUD MD</th>\n",
       "      <th>province</th>\n",
       "    </tr>\n",
       "  </thead>\n",
       "  <tbody>\n",
       "    <tr>\n",
       "      <th>0</th>\n",
       "      <td>ACEH BARAT</td>\n",
       "      <td>57.915</td>\n",
       "      <td>18.061</td>\n",
       "      <td>1.528</td>\n",
       "      <td>ACEH</td>\n",
       "    </tr>\n",
       "    <tr>\n",
       "      <th>1</th>\n",
       "      <td>ACEH BARAT DAYA</td>\n",
       "      <td>40.720</td>\n",
       "      <td>7.079</td>\n",
       "      <td>886</td>\n",
       "      <td>ACEH</td>\n",
       "    </tr>\n",
       "    <tr>\n",
       "      <th>2</th>\n",
       "      <td>ACEH BESAR</td>\n",
       "      <td>163.366</td>\n",
       "      <td>21.930</td>\n",
       "      <td>2.808</td>\n",
       "      <td>ACEH</td>\n",
       "    </tr>\n",
       "    <tr>\n",
       "      <th>3</th>\n",
       "      <td>ACEH JAYA</td>\n",
       "      <td>36.324</td>\n",
       "      <td>6.165</td>\n",
       "      <td>771</td>\n",
       "      <td>ACEH</td>\n",
       "    </tr>\n",
       "    <tr>\n",
       "      <th>4</th>\n",
       "      <td>ACEH SELATAN</td>\n",
       "      <td>89.183</td>\n",
       "      <td>16.232</td>\n",
       "      <td>1.774</td>\n",
       "      <td>ACEH</td>\n",
       "    </tr>\n",
       "  </tbody>\n",
       "</table>\n",
       "</div>"
      ],
      "text/plain": [
       "           Wilayah  \\\n",
       "0       ACEH BARAT   \n",
       "1  ACEH BARAT DAYA   \n",
       "2       ACEH BESAR   \n",
       "3        ACEH JAYA   \n",
       "4     ACEH SELATAN   \n",
       "\n",
       "  H. ANIES RASYID BASWEDAN, Ph.D. - Dr. (H.C.) H. A. MUHAIMIN ISKANDAR  \\\n",
       "0                                             57.915                     \n",
       "1                                             40.720                     \n",
       "2                                            163.366                     \n",
       "3                                             36.324                     \n",
       "4                                             89.183                     \n",
       "\n",
       "  H. PRABOWO SUBIANTO - GIBRAN RAKABUMING RAKA  \\\n",
       "0                                       18.061   \n",
       "1                                        7.079   \n",
       "2                                       21.930   \n",
       "3                                        6.165   \n",
       "4                                       16.232   \n",
       "\n",
       "  H. GANJAR PRANOWO, S.H., M.I.P. - Prof. Dr. H. M. MAHFUD MD province  \n",
       "0                                              1.528              ACEH  \n",
       "1                                                886              ACEH  \n",
       "2                                              2.808              ACEH  \n",
       "3                                                771              ACEH  \n",
       "4                                              1.774              ACEH  "
      ]
     },
     "execution_count": 10,
     "metadata": {},
     "output_type": "execute_result"
    }
   ],
   "source": [
    "df.head()"
   ]
  },
  {
   "cell_type": "code",
   "execution_count": 11,
   "id": "d4b7d961",
   "metadata": {
    "scrolled": true
   },
   "outputs": [
    {
     "ename": "ValueError",
     "evalue": "invalid literal for int() with base 10: 'ACEH'",
     "output_type": "error",
     "traceback": [
      "\u001b[1;31m---------------------------------------------------------------------------\u001b[0m",
      "\u001b[1;31mValueError\u001b[0m                                Traceback (most recent call last)",
      "\u001b[1;32m~\\AppData\\Local\\Temp/ipykernel_23540/3539875016.py\u001b[0m in \u001b[0;36m<module>\u001b[1;34m\u001b[0m\n\u001b[1;32m----> 1\u001b[1;33m \u001b[0mdf\u001b[0m \u001b[1;33m=\u001b[0m \u001b[0mprocess_data\u001b[0m\u001b[1;33m(\u001b[0m\u001b[0mdf\u001b[0m\u001b[1;33m)\u001b[0m\u001b[1;33m\u001b[0m\u001b[1;33m\u001b[0m\u001b[0m\n\u001b[0m",
      "\u001b[1;32m~\\AppData\\Local\\Temp/ipykernel_23540/3922123644.py\u001b[0m in \u001b[0;36mprocess_data\u001b[1;34m(df)\u001b[0m\n\u001b[0;32m     11\u001b[0m     \u001b[0mcolumns_to_convert\u001b[0m \u001b[1;33m=\u001b[0m \u001b[1;33m[\u001b[0m\u001b[1;34m'candidate_1_votes'\u001b[0m\u001b[1;33m,\u001b[0m \u001b[1;34m'candidate_2_votes'\u001b[0m\u001b[1;33m,\u001b[0m \u001b[1;34m'candidate_3_votes'\u001b[0m\u001b[1;33m]\u001b[0m\u001b[1;33m\u001b[0m\u001b[1;33m\u001b[0m\u001b[0m\n\u001b[0;32m     12\u001b[0m     \u001b[1;32mfor\u001b[0m \u001b[0mcol\u001b[0m \u001b[1;32min\u001b[0m \u001b[0mcolumns_to_convert\u001b[0m\u001b[1;33m:\u001b[0m\u001b[1;33m\u001b[0m\u001b[1;33m\u001b[0m\u001b[0m\n\u001b[1;32m---> 13\u001b[1;33m         \u001b[0mdf\u001b[0m\u001b[1;33m[\u001b[0m\u001b[0mcol\u001b[0m\u001b[1;33m]\u001b[0m \u001b[1;33m=\u001b[0m \u001b[0mdf\u001b[0m\u001b[1;33m[\u001b[0m\u001b[0mcol\u001b[0m\u001b[1;33m]\u001b[0m\u001b[1;33m.\u001b[0m\u001b[0mapply\u001b[0m\u001b[1;33m(\u001b[0m\u001b[1;32mlambda\u001b[0m \u001b[0mx\u001b[0m\u001b[1;33m:\u001b[0m \u001b[0mint\u001b[0m\u001b[1;33m(\u001b[0m\u001b[0mx\u001b[0m\u001b[1;33m.\u001b[0m\u001b[0mreplace\u001b[0m\u001b[1;33m(\u001b[0m\u001b[1;34m'.'\u001b[0m\u001b[1;33m,\u001b[0m \u001b[1;34m''\u001b[0m\u001b[1;33m)\u001b[0m\u001b[1;33m)\u001b[0m \u001b[1;32mif\u001b[0m \u001b[0mx\u001b[0m \u001b[1;32melse\u001b[0m \u001b[1;32mNone\u001b[0m\u001b[1;33m)\u001b[0m\u001b[1;33m\u001b[0m\u001b[1;33m\u001b[0m\u001b[0m\n\u001b[0m\u001b[0;32m     14\u001b[0m \u001b[1;33m\u001b[0m\u001b[0m\n\u001b[0;32m     15\u001b[0m     \u001b[1;31m# Add total votes column\u001b[0m\u001b[1;33m\u001b[0m\u001b[1;33m\u001b[0m\u001b[0m\n",
      "\u001b[1;32m~\\AppData\\Local\\Programs\\Python\\Python310\\lib\\site-packages\\pandas\\core\\series.py\u001b[0m in \u001b[0;36mapply\u001b[1;34m(self, func, convert_dtype, args, **kwargs)\u001b[0m\n\u001b[0;32m   4769\u001b[0m         \u001b[0mdtype\u001b[0m\u001b[1;33m:\u001b[0m \u001b[0mfloat64\u001b[0m\u001b[1;33m\u001b[0m\u001b[1;33m\u001b[0m\u001b[0m\n\u001b[0;32m   4770\u001b[0m         \"\"\"\n\u001b[1;32m-> 4771\u001b[1;33m         \u001b[1;32mreturn\u001b[0m \u001b[0mSeriesApply\u001b[0m\u001b[1;33m(\u001b[0m\u001b[0mself\u001b[0m\u001b[1;33m,\u001b[0m \u001b[0mfunc\u001b[0m\u001b[1;33m,\u001b[0m \u001b[0mconvert_dtype\u001b[0m\u001b[1;33m,\u001b[0m \u001b[0margs\u001b[0m\u001b[1;33m,\u001b[0m \u001b[0mkwargs\u001b[0m\u001b[1;33m)\u001b[0m\u001b[1;33m.\u001b[0m\u001b[0mapply\u001b[0m\u001b[1;33m(\u001b[0m\u001b[1;33m)\u001b[0m\u001b[1;33m\u001b[0m\u001b[1;33m\u001b[0m\u001b[0m\n\u001b[0m\u001b[0;32m   4772\u001b[0m \u001b[1;33m\u001b[0m\u001b[0m\n\u001b[0;32m   4773\u001b[0m     def _reduce(\n",
      "\u001b[1;32m~\\AppData\\Local\\Programs\\Python\\Python310\\lib\\site-packages\\pandas\\core\\apply.py\u001b[0m in \u001b[0;36mapply\u001b[1;34m(self)\u001b[0m\n\u001b[0;32m   1121\u001b[0m \u001b[1;33m\u001b[0m\u001b[0m\n\u001b[0;32m   1122\u001b[0m         \u001b[1;31m# self.f is Callable\u001b[0m\u001b[1;33m\u001b[0m\u001b[1;33m\u001b[0m\u001b[0m\n\u001b[1;32m-> 1123\u001b[1;33m         \u001b[1;32mreturn\u001b[0m \u001b[0mself\u001b[0m\u001b[1;33m.\u001b[0m\u001b[0mapply_standard\u001b[0m\u001b[1;33m(\u001b[0m\u001b[1;33m)\u001b[0m\u001b[1;33m\u001b[0m\u001b[1;33m\u001b[0m\u001b[0m\n\u001b[0m\u001b[0;32m   1124\u001b[0m \u001b[1;33m\u001b[0m\u001b[0m\n\u001b[0;32m   1125\u001b[0m     \u001b[1;32mdef\u001b[0m \u001b[0magg\u001b[0m\u001b[1;33m(\u001b[0m\u001b[0mself\u001b[0m\u001b[1;33m)\u001b[0m\u001b[1;33m:\u001b[0m\u001b[1;33m\u001b[0m\u001b[1;33m\u001b[0m\u001b[0m\n",
      "\u001b[1;32m~\\AppData\\Local\\Programs\\Python\\Python310\\lib\\site-packages\\pandas\\core\\apply.py\u001b[0m in \u001b[0;36mapply_standard\u001b[1;34m(self)\u001b[0m\n\u001b[0;32m   1172\u001b[0m             \u001b[1;32melse\u001b[0m\u001b[1;33m:\u001b[0m\u001b[1;33m\u001b[0m\u001b[1;33m\u001b[0m\u001b[0m\n\u001b[0;32m   1173\u001b[0m                 \u001b[0mvalues\u001b[0m \u001b[1;33m=\u001b[0m \u001b[0mobj\u001b[0m\u001b[1;33m.\u001b[0m\u001b[0mastype\u001b[0m\u001b[1;33m(\u001b[0m\u001b[0mobject\u001b[0m\u001b[1;33m)\u001b[0m\u001b[1;33m.\u001b[0m\u001b[0m_values\u001b[0m\u001b[1;33m\u001b[0m\u001b[1;33m\u001b[0m\u001b[0m\n\u001b[1;32m-> 1174\u001b[1;33m                 mapped = lib.map_infer(\n\u001b[0m\u001b[0;32m   1175\u001b[0m                     \u001b[0mvalues\u001b[0m\u001b[1;33m,\u001b[0m\u001b[1;33m\u001b[0m\u001b[1;33m\u001b[0m\u001b[0m\n\u001b[0;32m   1176\u001b[0m                     \u001b[0mf\u001b[0m\u001b[1;33m,\u001b[0m\u001b[1;33m\u001b[0m\u001b[1;33m\u001b[0m\u001b[0m\n",
      "\u001b[1;32m~\\AppData\\Local\\Programs\\Python\\Python310\\lib\\site-packages\\pandas\\_libs\\lib.pyx\u001b[0m in \u001b[0;36mpandas._libs.lib.map_infer\u001b[1;34m()\u001b[0m\n",
      "\u001b[1;32m~\\AppData\\Local\\Temp/ipykernel_23540/3922123644.py\u001b[0m in \u001b[0;36m<lambda>\u001b[1;34m(x)\u001b[0m\n\u001b[0;32m     11\u001b[0m     \u001b[0mcolumns_to_convert\u001b[0m \u001b[1;33m=\u001b[0m \u001b[1;33m[\u001b[0m\u001b[1;34m'candidate_1_votes'\u001b[0m\u001b[1;33m,\u001b[0m \u001b[1;34m'candidate_2_votes'\u001b[0m\u001b[1;33m,\u001b[0m \u001b[1;34m'candidate_3_votes'\u001b[0m\u001b[1;33m]\u001b[0m\u001b[1;33m\u001b[0m\u001b[1;33m\u001b[0m\u001b[0m\n\u001b[0;32m     12\u001b[0m     \u001b[1;32mfor\u001b[0m \u001b[0mcol\u001b[0m \u001b[1;32min\u001b[0m \u001b[0mcolumns_to_convert\u001b[0m\u001b[1;33m:\u001b[0m\u001b[1;33m\u001b[0m\u001b[1;33m\u001b[0m\u001b[0m\n\u001b[1;32m---> 13\u001b[1;33m         \u001b[0mdf\u001b[0m\u001b[1;33m[\u001b[0m\u001b[0mcol\u001b[0m\u001b[1;33m]\u001b[0m \u001b[1;33m=\u001b[0m \u001b[0mdf\u001b[0m\u001b[1;33m[\u001b[0m\u001b[0mcol\u001b[0m\u001b[1;33m]\u001b[0m\u001b[1;33m.\u001b[0m\u001b[0mapply\u001b[0m\u001b[1;33m(\u001b[0m\u001b[1;32mlambda\u001b[0m \u001b[0mx\u001b[0m\u001b[1;33m:\u001b[0m \u001b[0mint\u001b[0m\u001b[1;33m(\u001b[0m\u001b[0mx\u001b[0m\u001b[1;33m.\u001b[0m\u001b[0mreplace\u001b[0m\u001b[1;33m(\u001b[0m\u001b[1;34m'.'\u001b[0m\u001b[1;33m,\u001b[0m \u001b[1;34m''\u001b[0m\u001b[1;33m)\u001b[0m\u001b[1;33m)\u001b[0m \u001b[1;32mif\u001b[0m \u001b[0mx\u001b[0m \u001b[1;32melse\u001b[0m \u001b[1;32mNone\u001b[0m\u001b[1;33m)\u001b[0m\u001b[1;33m\u001b[0m\u001b[1;33m\u001b[0m\u001b[0m\n\u001b[0m\u001b[0;32m     14\u001b[0m \u001b[1;33m\u001b[0m\u001b[0m\n\u001b[0;32m     15\u001b[0m     \u001b[1;31m# Add total votes column\u001b[0m\u001b[1;33m\u001b[0m\u001b[1;33m\u001b[0m\u001b[0m\n",
      "\u001b[1;31mValueError\u001b[0m: invalid literal for int() with base 10: 'ACEH'"
     ]
    }
   ],
   "source": [
    "df = process_data(df)"
   ]
  },
  {
   "cell_type": "code",
   "execution_count": null,
   "id": "c0c01ff2",
   "metadata": {},
   "outputs": [],
   "source": [
    "df.info()"
   ]
  },
  {
   "cell_type": "code",
   "execution_count": null,
   "id": "5763721c",
   "metadata": {},
   "outputs": [],
   "source": [
    "df.head()"
   ]
  },
  {
   "cell_type": "code",
   "execution_count": null,
   "id": "9923f0de",
   "metadata": {},
   "outputs": [],
   "source": [
    "# Don't forget to close the browser\n",
    "driver.quit()"
   ]
  },
  {
   "cell_type": "code",
   "execution_count": null,
   "id": "dd649dfa",
   "metadata": {},
   "outputs": [],
   "source": []
  }
 ],
 "metadata": {
  "kernelspec": {
   "display_name": "Python 3 (ipykernel)",
   "language": "python",
   "name": "python3"
  },
  "language_info": {
   "codemirror_mode": {
    "name": "ipython",
    "version": 3
   },
   "file_extension": ".py",
   "mimetype": "text/x-python",
   "name": "python",
   "nbconvert_exporter": "python",
   "pygments_lexer": "ipython3",
   "version": "3.10.1"
  }
 },
 "nbformat": 4,
 "nbformat_minor": 5
}
